{
 "cells": [
  {
   "cell_type": "code",
   "execution_count": 1,
   "metadata": {},
   "outputs": [
    {
     "name": "stdout",
     "output_type": "stream",
     "text": [
      "Requirement already satisfied: praw in ./.venv/lib/python3.11/site-packages (7.7.1)\n",
      "Requirement already satisfied: prawcore<3,>=2.1 in ./.venv/lib/python3.11/site-packages (from praw) (2.4.0)\n",
      "Requirement already satisfied: update-checker>=0.18 in ./.venv/lib/python3.11/site-packages (from praw) (0.18.0)\n",
      "Requirement already satisfied: websocket-client>=0.54.0 in ./.venv/lib/python3.11/site-packages (from praw) (1.7.0)\n",
      "Requirement already satisfied: requests<3.0,>=2.6.0 in ./.venv/lib/python3.11/site-packages (from prawcore<3,>=2.1->praw) (2.31.0)\n",
      "Requirement already satisfied: charset-normalizer<4,>=2 in ./.venv/lib/python3.11/site-packages (from requests<3.0,>=2.6.0->prawcore<3,>=2.1->praw) (3.3.2)\n",
      "Requirement already satisfied: idna<4,>=2.5 in ./.venv/lib/python3.11/site-packages (from requests<3.0,>=2.6.0->prawcore<3,>=2.1->praw) (3.4)\n",
      "Requirement already satisfied: urllib3<3,>=1.21.1 in ./.venv/lib/python3.11/site-packages (from requests<3.0,>=2.6.0->prawcore<3,>=2.1->praw) (2.1.0)\n",
      "Requirement already satisfied: certifi>=2017.4.17 in ./.venv/lib/python3.11/site-packages (from requests<3.0,>=2.6.0->prawcore<3,>=2.1->praw) (2023.7.22)\n",
      "Note: you may need to restart the kernel to use updated packages.\n"
     ]
    }
   ],
   "source": [
    "%pip install praw"
   ]
  },
  {
   "cell_type": "code",
   "execution_count": 2,
   "metadata": {},
   "outputs": [
    {
     "name": "stdout",
     "output_type": "stream",
     "text": [
      "Title: AI app on your own website potentially makes more than GPT store\n",
      "URL: https://www.youtube.com/watch?v=mVmDROhUA6A&t=22s\n",
      "\n",
      "Title: Can Zapier interact with custom made GPT?\n",
      "URL: https://www.reddit.com/r/ChatGPT/comments/19fbv6c/can_zapier_interact_with_custom_made_gpt/\n",
      "\n"
     ]
    }
   ],
   "source": [
    "import praw\n",
    "\n",
    "# Authenticate with Reddit\n",
    "reddit = praw.Reddit(client_id='uDNAhJjTINgI5xsJCa33OQ',\n",
    "                     client_secret='ZUonzednDbeNVz0khjdJowfmbMufCg',\n",
    "                     user_agent='WebScraping by /u/happybirdie007',\n",
    "                     username='happybirdie007',\n",
    "                     password='Ai1Jiao2Er?')\n",
    "\n",
    "# Define keywords and subreddit\n",
    "keywords = ['gpt store', 'gpt plugin']  # Add your keywords here\n",
    "subreddit = reddit.subreddit('all')  # Change to a specific subreddit if needed\n",
    "\n",
    "# Search and process posts\n",
    "for keyword in keywords:\n",
    "    for submission in subreddit.search(keyword, sort='new'):\n",
    "        print(f\"Title: {submission.title}\")\n",
    "        print(f\"URL: {submission.url}\\n\")\n",
    "        break\n"
   ]
  },
  {
   "cell_type": "code",
   "execution_count": 6,
   "metadata": {},
   "outputs": [
    {
     "data": {
      "text/plain": [
       "(4, 18)"
      ]
     },
     "execution_count": 6,
     "metadata": {},
     "output_type": "execute_result"
    }
   ],
   "source": [
    "from selenium.webdriver.common.by import By\n",
    "# import undetected_chromedriver as uc\n",
    "from selenium import webdriver\n",
    "import pandas as pd\n",
    "\n",
    "tag_store_links = []\n",
    "tag_plugin_links = []\n",
    "\n",
    "driver = webdriver.Chrome()\n",
    "driver.implicitly_wait(5)\n",
    "\n",
    "url = 'https://community.openai.com/tags'\n",
    "driver.get(url)\n",
    "\n",
    "for tag in driver.find_elements(By.XPATH, '//div[@class=\"tag-box\"]/a'):\n",
    "    tag_name = tag.get_attribute('data-tag-name')\n",
    "    if 'store' in tag_name:\n",
    "        tag_store_links.append(tag.get_attribute('href'))\n",
    "    elif 'plugin' in tag_name:\n",
    "        tag_plugin_links.append(tag.get_attribute('href'))\n",
    "        \n",
    "post_store_links = set()\n",
    "post_plugin_links = set()\n",
    "\n",
    "for tag_link in tag_store_links:\n",
    "    driver.get(tag_link)\n",
    "    for post in driver.find_elements(By.XPATH, '//tbody[@class=\"topic-list-body\"]/tr'):\n",
    "        post_link = post.find_element(By.XPATH, './/a[@role=\"heading\"]').get_attribute('href')\n",
    "        post_store_links.add(post_link)\n",
    "\n",
    "for tag_link in tag_plugin_links:\n",
    "    driver.get(tag_link)\n",
    "    for post in driver.find_elements(By.XPATH, '//tbody[@class=\"topic-list-body\"]/tr'):\n",
    "        post_link = post.find_element(By.XPATH, './/a[@role=\"heading\"]').get_attribute('href')\n",
    "        post_plugin_links.add(post_link)\n"
   ]
  }
 ],
 "metadata": {
  "kernelspec": {
   "display_name": ".venv",
   "language": "python",
   "name": "python3"
  },
  "language_info": {
   "codemirror_mode": {
    "name": "ipython",
    "version": 3
   },
   "file_extension": ".py",
   "mimetype": "text/x-python",
   "name": "python",
   "nbconvert_exporter": "python",
   "pygments_lexer": "ipython3",
   "version": "3.9.6"
  }
 },
 "nbformat": 4,
 "nbformat_minor": 2
}
